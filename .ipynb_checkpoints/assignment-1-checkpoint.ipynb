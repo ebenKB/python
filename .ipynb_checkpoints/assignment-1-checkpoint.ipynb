{
 "cells": [
  {
   "cell_type": "markdown",
   "metadata": {},
   "source": [
    "### find the area of a square"
   ]
  },
  {
   "cell_type": "code",
   "execution_count": null,
   "metadata": {},
   "outputs": [],
   "source": [
    "import re\n",
    "\n",
    "# check for integers or floats\n",
    "def checkNumber(value):\n",
    "    return re.match('([0-9]+)|([0-9]+\\.{1}[0-9]+)', value)\n",
    "\n",
    "length = ''\n",
    "result = None\n",
    "while result == None:\n",
    "    length = input(\"Enter the length: \")\n",
    "    result = checkNumber(length)\n",
    "\n",
    "# change the string to a number type\n",
    "length = float(length)\n",
    "\n",
    "# calculate the area\n",
    "area = (length * length)\n",
    "\n",
    "# display result to the user\n",
    "result = \"The area of the square is {}\"\n",
    "print(result.format(area))"
   ]
  },
  {
   "cell_type": "markdown",
   "metadata": {},
   "source": [
    "### find the perimeter of the square"
   ]
  },
  {
   "cell_type": "code",
   "execution_count": null,
   "metadata": {},
   "outputs": [],
   "source": [
    "perimeter = (4 * length)\n",
    "result=\"This is the perimeter of the square {}\"\n",
    "\n",
    "# Show the result to the user\n",
    "print(result.format(perimeter))"
   ]
  },
  {
   "cell_type": "markdown",
   "metadata": {},
   "source": [
    "### find the area of a circle"
   ]
  },
  {
   "cell_type": "code",
   "execution_count": null,
   "metadata": {},
   "outputs": [],
   "source": [
    "result = None\n",
    "radius = None\n",
    "while result == None:\n",
    "    radius = input(\"What is the radius of the circle? \")\n",
    "    result = checkNumber(radius)\n",
    "\n",
    "radius = float(radius)\n",
    "area = ((22/7)*radius*radius)\n",
    "print(\"The area of the circle is: \", area)"
   ]
  },
  {
   "cell_type": "markdown",
   "metadata": {},
   "source": [
    "### find the circumference of a circle"
   ]
  },
  {
   "cell_type": "code",
   "execution_count": null,
   "metadata": {},
   "outputs": [],
   "source": [
    "circumference = (2*(22/7)*radius)\n",
    "print(\"The circumference of the circle is:\", circumference)"
   ]
  },
  {
   "cell_type": "markdown",
   "metadata": {},
   "source": [
    "### find the area of a triangle using the formular 1/2(b*h)"
   ]
  },
  {
   "cell_type": "code",
   "execution_count": null,
   "metadata": {},
   "outputs": [],
   "source": [
    "result = None\n",
    "base = None\n",
    "height = None\n",
    "while result == None:\n",
    "    base = input(\"What is the base of the triangle? \")\n",
    "    result=checkNumber(base)\n",
    "\n",
    "result = None\n",
    "while result == None:\n",
    "    height = input(\"What is the height of the triangle? \")\n",
    "    result = checkNumber(height)\n",
    "\n",
    "base = float(base)\n",
    "height = float(height)\n",
    "area = (((base) * height)/2)\n",
    "\n",
    "result = \"The area of the triangle is {} unitsˆ2\"\n",
    "print(result.format(area))"
   ]
  },
  {
   "cell_type": "markdown",
   "metadata": {},
   "source": [
    "#### find the perimeter of a triangle"
   ]
  },
  {
   "cell_type": "code",
   "execution_count": 155,
   "metadata": {
    "collapsed": true
   },
   "outputs": [
    {
     "name": "stdout",
     "output_type": "stream",
     "text": [
      "What is the size of the first side?3\n",
      "What is the size of the second side?3\n",
      "What is the size of the third side?34\n",
      "The perimeter of the triangle is: 40.0 units\n"
     ]
    }
   ],
   "source": [
    "result = None\n",
    "side_a = 0\n",
    "side_b = 0\n",
    "side_c = 0\n",
    "while result == None:\n",
    "    side_a = input(\"What is the size of the first side?\")\n",
    "    result=checkNumber(side_a)\n",
    "\n",
    "result=None\n",
    "while result == None :\n",
    "    side_b=input(\"What is the size of the second side?\")\n",
    "    result=checkNumber(side_b)\n",
    "\n",
    "result=None\n",
    "while result == None:\n",
    "    side_c = input(\"What is the size of the third side?\")\n",
    "    result = checkNumber(side_c)\n",
    "    \n",
    "# calculate the perimeter\n",
    "perimeter = (float(side_a) + float(side_b)+ float(side_c))\n",
    "result = \"The perimeter of the triangle is: {} units\"\n",
    "print(result.format(perimeter))"
   ]
  },
  {
   "cell_type": "markdown",
   "metadata": {},
   "source": [
    "#### find the area of a cylnder using the formula 2pie*r*r + (h(2pie*r))"
   ]
  },
  {
   "cell_type": "code",
   "execution_count": 165,
   "metadata": {},
   "outputs": [
    {
     "name": "stdout",
     "output_type": "stream",
     "text": [
      "What is the radius of the cylinder? 2\n",
      "What is the height of the cylinder? 4\n",
      "The area of the cylinder is 75.42857142857143 unitsˆ2\n"
     ]
    }
   ],
   "source": [
    "result = None\n",
    "pie = 22/7\n",
    "height = 0\n",
    "r=0\n",
    "while result == None:\n",
    "    r=input(\"What is the radius of the cylinder? \")\n",
    "    result=checkNumber(r)\n",
    "    \n",
    "result = None\n",
    "while result== None:\n",
    "    height = input(\"What is the height of the cylinder? \")\n",
    "    result = checkNumber(height)\n",
    "    \n",
    "## calculate the area\n",
    "r=float(r)\n",
    "height=float(height)\n",
    "area = ((2*pie*r*r) + (height*(2*pie*r)))\n",
    "result = \"The area of the cylinder is {} unitsˆ2\"\n",
    "print(result.format(area))"
   ]
  },
  {
   "cell_type": "markdown",
   "metadata": {},
   "source": [
    "#### find the volume of a cylinder using the formula pie*r*r*h"
   ]
  },
  {
   "cell_type": "code",
   "execution_count": 166,
   "metadata": {},
   "outputs": [
    {
     "name": "stdout",
     "output_type": "stream",
     "text": [
      "The volume of the cylinder is 50.285714285714285\n"
     ]
    }
   ],
   "source": [
    "volume = (pie*r*r*height)\n",
    "result = \"The volume of the cylinder is {} unitsˆ3\"\n",
    "print(result.format(volume))"
   ]
  },
  {
   "cell_type": "markdown",
   "metadata": {},
   "source": [
    "#### find the surface area of a cube using the formula 2lw + 2 hw + 2lh "
   ]
  },
  {
   "cell_type": "code",
   "execution_count": 199,
   "metadata": {},
   "outputs": [
    {
     "name": "stdout",
     "output_type": "stream",
     "text": [
      "Enter lenght: 3\n",
      "Enter height: 4\n",
      "Enter width: 2\n",
      "The surface area of the cuboid is 52.0\n"
     ]
    }
   ],
   "source": [
    "length = 0\n",
    "height = 0\n",
    "width = 0\n",
    "result = None\n",
    "while result == None: \n",
    "    length = input(\"Enter lenght: \")\n",
    "    result=checkNumber(length)\n",
    "\n",
    "result = None\n",
    "while result == None:\n",
    "    height = input(\"Enter height: \")\n",
    "    result = checkNumber(height)\n",
    "\n",
    "result = None\n",
    "while result == None:\n",
    "    width= input(\"Enter width: \")\n",
    "    result= checkNumber(width)\n",
    "\n",
    "length = float(length)\n",
    "width = float(width)\n",
    "height=float(height)\n",
    "\n",
    "## find the area of the top\n",
    "top_area = (2*(length * width))\n",
    "\n",
    "## find the area of the bottom\n",
    "bottom_area = (2*(height * width))\n",
    "               \n",
    "## find the area of the sides\n",
    "sides_area = (2*(length * height))\n",
    "total_area = (top_area + bottom_area + sides_area)\n",
    "result = \"The surface area of the cuboid is {} unitsˆ2\"\n",
    "\n",
    "print(result.format(total_area))"
   ]
  },
  {
   "cell_type": "markdown",
   "metadata": {},
   "source": [
    "#### find the volume of a cuboid"
   ]
  },
  {
   "cell_type": "code",
   "execution_count": null,
   "metadata": {},
   "outputs": [],
   "source": []
  }
 ],
 "metadata": {
  "kernelspec": {
   "display_name": "Python 3",
   "language": "python",
   "name": "python3"
  },
  "language_info": {
   "codemirror_mode": {
    "name": "ipython",
    "version": 3
   },
   "file_extension": ".py",
   "mimetype": "text/x-python",
   "name": "python",
   "nbconvert_exporter": "python",
   "pygments_lexer": "ipython3",
   "version": "3.7.6"
  }
 },
 "nbformat": 4,
 "nbformat_minor": 4
}
