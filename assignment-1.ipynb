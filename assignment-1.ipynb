{
 "cells": [
  {
   "cell_type": "code",
   "execution_count": 1,
   "metadata": {},
   "outputs": [],
   "source": [
    "import re\n",
    "\n",
    "# check for integers or floats\n",
    "def checkNumber(value):\n",
    "    return re.match('([0-9]+)|([0-9]+\\.{1}[0-9]+)', value)"
   ]
  },
  {
   "cell_type": "code",
   "execution_count": 2,
   "metadata": {},
   "outputs": [
    {
     "name": "stdout",
     "output_type": "stream",
     "text": [
      "Enter the length: 4\n",
      "The area of the square is 16.0 unitsˆ2\n"
     ]
    }
   ],
   "source": [
    "### find the area of a square\n",
    "\n",
    "length = ''\n",
    "result = None\n",
    "while result == None:\n",
    "    length = input(\"Enter the length: \")\n",
    "    result = checkNumber(length)\n",
    "\n",
    "# change the string to a number type\n",
    "length = float(length)\n",
    "\n",
    "# calculate the area\n",
    "area = (length * length)\n",
    "\n",
    "# display result to the user\n",
    "result = \"The area of the square is {} unitsˆ2\"\n",
    "print(result.format(area))"
   ]
  },
  {
   "cell_type": "markdown",
   "metadata": {},
   "source": [
    "## find the perimeter of the square"
   ]
  },
  {
   "cell_type": "code",
   "execution_count": 3,
   "metadata": {},
   "outputs": [
    {
     "name": "stdout",
     "output_type": "stream",
     "text": [
      "This is the perimeter of the square 16.0 units\n"
     ]
    }
   ],
   "source": [
    "perimeter = (4 * length)\n",
    "result=\"This is the perimeter of the square {} units\"\n",
    "\n",
    "# Show the result to the user\n",
    "print(result.format(perimeter))"
   ]
  },
  {
   "cell_type": "markdown",
   "metadata": {},
   "source": [
    "### find the area of a circle"
   ]
  },
  {
   "cell_type": "code",
   "execution_count": 4,
   "metadata": {},
   "outputs": [
    {
     "name": "stdout",
     "output_type": "stream",
     "text": [
      "What is the radius of the circle? 2\n",
      "The area of the circle is 12.57 unitsˆ2\n"
     ]
    }
   ],
   "source": [
    "result = None\n",
    "radius = None\n",
    "while result == None:\n",
    "    radius = input(\"What is the radius of the circle? \")\n",
    "    result = checkNumber(radius)\n",
    "\n",
    "radius = float(radius)\n",
    "area = round(((22/7)*radius*radius),2)\n",
    "result = \"The area of the circle is {} unitsˆ2\"\n",
    "print(result.format(area))"
   ]
  },
  {
   "cell_type": "markdown",
   "metadata": {},
   "source": [
    "### find the circumference of a circle"
   ]
  },
  {
   "cell_type": "code",
   "execution_count": 5,
   "metadata": {},
   "outputs": [
    {
     "name": "stdout",
     "output_type": "stream",
     "text": [
      "The circumference of the circle is: 12.571428571428571\n"
     ]
    }
   ],
   "source": [
    "circumference = (2*(22/7)*radius)\n",
    "print(\"The circumference of the circle is:\", circumference)"
   ]
  },
  {
   "cell_type": "markdown",
   "metadata": {},
   "source": [
    "### find the area of a triangle using the formular 1/2(b*h)"
   ]
  },
  {
   "cell_type": "code",
   "execution_count": 6,
   "metadata": {},
   "outputs": [
    {
     "name": "stdout",
     "output_type": "stream",
     "text": [
      "What is the base of the triangle? 12\n",
      "What is the height of the triangle? 4\n",
      "The area of the triangle is 24.0 unitsˆ2\n"
     ]
    }
   ],
   "source": [
    "result = None\n",
    "base = None\n",
    "height = None\n",
    "while result == None:\n",
    "    base = input(\"What is the base of the triangle? \")\n",
    "    result=checkNumber(base)\n",
    "\n",
    "result = None\n",
    "while result == None:\n",
    "    height = input(\"What is the height of the triangle? \")\n",
    "    result = checkNumber(height)\n",
    "\n",
    "base = float(base)\n",
    "height = float(height)\n",
    "area = round((((base) * height)/2),2)\n",
    "\n",
    "result = \"The area of the triangle is {} unitsˆ2\"\n",
    "print(result.format(area))"
   ]
  },
  {
   "cell_type": "markdown",
   "metadata": {},
   "source": [
    "### find the perimeter of a triangle"
   ]
  },
  {
   "cell_type": "code",
   "execution_count": 7,
   "metadata": {},
   "outputs": [
    {
     "name": "stdout",
     "output_type": "stream",
     "text": [
      "What is the size of the first side?12\n",
      "What is the size of the second side?6\n",
      "What is the size of the third side?5\n",
      "The perimeter of the triangle is: 23.0 units\n"
     ]
    }
   ],
   "source": [
    "result = None\n",
    "side_a = 0\n",
    "side_b = 0\n",
    "side_c = 0\n",
    "while result == None:\n",
    "    side_a = input(\"What is the size of the first side?\")\n",
    "    result=checkNumber(side_a)\n",
    "\n",
    "result=None\n",
    "while result == None :\n",
    "    side_b=input(\"What is the size of the second side?\")\n",
    "    result=checkNumber(side_b)\n",
    "\n",
    "result=None\n",
    "while result == None:\n",
    "    side_c = input(\"What is the size of the third side?\")\n",
    "    result = checkNumber(side_c)\n",
    "    \n",
    "# calculate the perimeter\n",
    "perimeter = round((float(side_a) + float(side_b)+ float(side_c)),2)\n",
    "result = \"The perimeter of the triangle is: {} units\"\n",
    "print(result.format(perimeter))"
   ]
  },
  {
   "cell_type": "markdown",
   "metadata": {},
   "source": [
    "### find the area of a cylnder using the formula 2pie*r*r + (h(2pie*r))"
   ]
  },
  {
   "cell_type": "code",
   "execution_count": 8,
   "metadata": {},
   "outputs": [
    {
     "name": "stdout",
     "output_type": "stream",
     "text": [
      "What is the radius of the cylinder? 5\n",
      "What is the height of the cylinder? 8\n",
      "The area of the cylinder is 408.57 unitsˆ2\n"
     ]
    }
   ],
   "source": [
    "result = None\n",
    "pie = 22/7\n",
    "height = 0\n",
    "r=0\n",
    "while result == None:\n",
    "    r=input(\"What is the radius of the cylinder? \")\n",
    "    result=checkNumber(r)\n",
    "    \n",
    "result = None\n",
    "while result== None:\n",
    "    height = input(\"What is the height of the cylinder? \")\n",
    "    result = checkNumber(height)\n",
    "    \n",
    "## calculate the area\n",
    "r=float(r)\n",
    "height=float(height)\n",
    "area = round(((2*pie*r*r) + (height*(2*pie*r))),2)\n",
    "result = \"The area of the cylinder is {} unitsˆ2\"\n",
    "print(result.format(area))"
   ]
  },
  {
   "cell_type": "markdown",
   "metadata": {},
   "source": [
    "### find the volume of a cylinder using the formula pie*r*r*h"
   ]
  },
  {
   "cell_type": "code",
   "execution_count": 9,
   "metadata": {},
   "outputs": [
    {
     "name": "stdout",
     "output_type": "stream",
     "text": [
      "The volume of the cylinder is 628.5714285714286 unitsˆ3\n"
     ]
    }
   ],
   "source": [
    "volume = (pie*r*r*height)\n",
    "result = \"The volume of the cylinder is {} unitsˆ3\"\n",
    "print(result.format(volume))"
   ]
  },
  {
   "cell_type": "markdown",
   "metadata": {},
   "source": [
    "###  find the surface area of a cube using the formula 2lw + 2 hw + 2lh "
   ]
  },
  {
   "cell_type": "code",
   "execution_count": 10,
   "metadata": {},
   "outputs": [
    {
     "name": "stdout",
     "output_type": "stream",
     "text": [
      "Enter lenght: 8\n",
      "Enter height: 2\n",
      "Enter width: 3\n",
      "The surface area of the cuboid is 92.0 unitsˆ2\n"
     ]
    }
   ],
   "source": [
    "length = 0\n",
    "height = 0\n",
    "width = 0\n",
    "result = None\n",
    "while result == None: \n",
    "    length = input(\"Enter lenght: \")\n",
    "    result=checkNumber(length)\n",
    "\n",
    "result = None\n",
    "while result == None:\n",
    "    height = input(\"Enter height: \")\n",
    "    result = checkNumber(height)\n",
    "\n",
    "result = None\n",
    "while result == None:\n",
    "    width= input(\"Enter width: \")\n",
    "    result= checkNumber(width)\n",
    "\n",
    "length = float(length)\n",
    "width = float(width)\n",
    "height=float(height)\n",
    "\n",
    "## find the area of the top\n",
    "top_area = (2*(length * width))\n",
    "\n",
    "## find the area of the bottom\n",
    "bottom_area = (2*(height * width))\n",
    "               \n",
    "## find the area of the sides\n",
    "sides_area = (2*(length * height))\n",
    "total_area = round((top_area + bottom_area + sides_area),2)\n",
    "result = \"The surface area of the cuboid is {} unitsˆ2\"\n",
    "\n",
    "print(result.format(total_area))"
   ]
  },
  {
   "cell_type": "markdown",
   "metadata": {},
   "source": [
    "### find the volume of a cuboid"
   ]
  },
  {
   "cell_type": "code",
   "execution_count": 11,
   "metadata": {},
   "outputs": [
    {
     "name": "stdout",
     "output_type": "stream",
     "text": [
      "The volume of the cuboid is 48.0 unitsˆ3\n"
     ]
    }
   ],
   "source": [
    "volume = length * width * height\n",
    "result = \"The volume of the cuboid is {} unitsˆ3\"\n",
    "print(result.format(volume))"
   ]
  },
  {
   "cell_type": "markdown",
   "metadata": {},
   "source": [
    "### find the surface area of a cube using the formula 6aˆ2"
   ]
  },
  {
   "cell_type": "code",
   "execution_count": 14,
   "metadata": {},
   "outputs": [
    {
     "name": "stdout",
     "output_type": "stream",
     "text": [
      "Enter the length of one side: 8\n",
      "The area of the cube is 384.0 units^2\n"
     ]
    }
   ],
   "source": [
    "result = None\n",
    "length =0\n",
    "\n",
    "while result == None:\n",
    "    length = input(\"Enter the length of one side:\")\n",
    "    result = checkNumber(length)\n",
    "length =float(length)\n",
    "area = round((6 *(length*length)),2)\n",
    "result=\"The area of the cube is {} units^2\"\n",
    "print(result.format(area))"
   ]
  },
  {
   "cell_type": "markdown",
   "metadata": {},
   "source": [
    "### find the voulme of a sphere using the formula (aˆ3) unitsˆ3"
   ]
  },
  {
   "cell_type": "code",
   "execution_count": 15,
   "metadata": {},
   "outputs": [
    {
     "name": "stdout",
     "output_type": "stream",
     "text": [
      "The volume of the cube is 512.0\n"
     ]
    }
   ],
   "source": [
    "volume = round((length * length * length), 2)\n",
    "result = \"The volume of the cube is {}\"\n",
    "print(result.format(volume))"
   ]
  },
  {
   "cell_type": "markdown",
   "metadata": {},
   "source": [
    "### find the area of a sphere using the formula 4*pie*rˆ2"
   ]
  },
  {
   "cell_type": "code",
   "execution_count": 16,
   "metadata": {},
   "outputs": [
    {
     "name": "stdout",
     "output_type": "stream",
     "text": [
      "Enter the radius: 6\n",
      "The area of the sphere is 452.57\n"
     ]
    }
   ],
   "source": [
    "pie = 22/7\n",
    "radius = 0\n",
    "result=None\n",
    "\n",
    "while result == None:\n",
    "    radius = input(\"Enter the radius: \")\n",
    "    result=checkNumber(radius)\n",
    "\n",
    "radius = float(radius)\n",
    "area = round((4*pie*radius*radius),2)\n",
    "result = \"The area of the sphere is {}\"\n",
    "print(result.format(area))"
   ]
  },
  {
   "cell_type": "markdown",
   "metadata": {},
   "source": [
    "### find the volume of a sphere using the formula 4/3(pie*rˆ3)"
   ]
  },
  {
   "cell_type": "code",
   "execution_count": 17,
   "metadata": {},
   "outputs": [
    {
     "name": "stdout",
     "output_type": "stream",
     "text": [
      "The volume of the sphere is 905.14\n"
     ]
    }
   ],
   "source": [
    "volume = round(((4/3)*pie*radius*radius*radius),2)\n",
    "result =\"The volume of the sphere is {}\"\n",
    "print(result.format(volume))"
   ]
  }
 ],
 "metadata": {
  "kernelspec": {
   "display_name": "Python 3",
   "language": "python",
   "name": "python3"
  },
  "language_info": {
   "codemirror_mode": {
    "name": "ipython",
    "version": 3
   },
   "file_extension": ".py",
   "mimetype": "text/x-python",
   "name": "python",
   "nbconvert_exporter": "python",
   "pygments_lexer": "ipython3",
   "version": "3.7.6"
  }
 },
 "nbformat": 4,
 "nbformat_minor": 4
}
